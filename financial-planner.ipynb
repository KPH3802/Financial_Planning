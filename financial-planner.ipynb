{
 "cells": [
  {
   "cell_type": "markdown",
   "metadata": {},
   "source": [
    "# Financial Planning\n"
   ]
  },
  {
   "cell_type": "code",
   "execution_count": 37,
   "metadata": {},
   "outputs": [],
   "source": [
    "# Initial imports\n",
    "import os\n",
    "import requests\n",
    "import pandas as pd\n",
    "from dotenv import load_dotenv\n",
    "import alpaca_trade_api as tradeapi\n",
    "from MCForecastTools import MCSimulation\n",
    "from pprint import pprint\n",
    "import matplotlib.pyplot as plt\n",
    "%matplotlib inline"
   ]
  },
  {
   "cell_type": "code",
   "execution_count": 3,
   "metadata": {},
   "outputs": [
    {
     "data": {
      "text/plain": [
       "True"
      ]
     },
     "execution_count": 3,
     "metadata": {},
     "output_type": "execute_result"
    }
   ],
   "source": [
    "# Load .env enviroment variables\n",
    "load_dotenv()"
   ]
  },
  {
   "cell_type": "markdown",
   "metadata": {},
   "source": [
    "## Part 1 - Personal Finance Planner"
   ]
  },
  {
   "cell_type": "code",
   "execution_count": 4,
   "metadata": {},
   "outputs": [],
   "source": [
    "# Set monthly household income\n",
    "monthly_income = 12000"
   ]
  },
  {
   "cell_type": "markdown",
   "metadata": {},
   "source": [
    "### Collect Crypto Prices Using the `requests` Library"
   ]
  },
  {
   "cell_type": "code",
   "execution_count": 5,
   "metadata": {},
   "outputs": [],
   "source": [
    "# Current amount of crypto assets\n",
    "my_btc = 1.2\n",
    "my_eth = 5.3"
   ]
  },
  {
   "cell_type": "code",
   "execution_count": 6,
   "metadata": {},
   "outputs": [],
   "source": [
    "# Crypto API URLs\n",
    "btc_url = \"https://api.alternative.me/v2/ticker/Bitcoin/?convert=USD\"\n",
    "eth_url = \"https://api.alternative.me/v2/ticker/Ethereum/?convert=USD\""
   ]
  },
  {
   "cell_type": "code",
   "execution_count": 7,
   "metadata": {},
   "outputs": [
    {
     "name": "stdout",
     "output_type": "stream",
     "text": [
      "The current value of your 1.2 BTC is $13,664.54\n",
      "The current value of your 5.3 ETH is $2,295.69\n"
     ]
    }
   ],
   "source": [
    "# Fetch current BTC price\n",
    "response_btc = requests.get(btc_url).json()\n",
    "btc_price = response_btc['data']['1']['quotes']['USD']['price']\n",
    "\n",
    "# Fetch current ETH price\n",
    "response_eth = requests.get(eth_url).json()\n",
    "eth_price = response_eth['data']['1027']['quotes']['USD']['price']\n",
    "\n",
    "# Compute current value of my crpto\n",
    "my_btc_value = btc_price * my_btc\n",
    "my_eth_value = eth_price * my_eth\n",
    "\n",
    "# Print current crypto wallet balance\n",
    "print(f\"The current value of your {my_btc} BTC is ${my_btc_value:0,.2f}\")\n",
    "print(f\"The current value of your {my_eth} ETH is ${my_eth_value:0,.2f}\")"
   ]
  },
  {
   "cell_type": "markdown",
   "metadata": {},
   "source": [
    "### Collect Investments Data Using Alpaca: `SPY` (stocks) and `AGG` (bonds)"
   ]
  },
  {
   "cell_type": "code",
   "execution_count": 8,
   "metadata": {},
   "outputs": [],
   "source": [
    "# Current amount of shares\n",
    "my_agg = 200\n",
    "my_spy = 50"
   ]
  },
  {
   "cell_type": "code",
   "execution_count": 9,
   "metadata": {},
   "outputs": [],
   "source": [
    "# Setting Alpaca API key and secret\n",
    "alpaca_api_key = os.getenv(\"ALPACA_API_KEY\")\n",
    "alpaca_secret_key = os.getenv(\"ALPACA_SECRET_KEY\")\n",
    "\n",
    "# Create the Alpaca API object\n",
    "alpaca = tradeapi.REST(\n",
    "    alpaca_api_key,\n",
    "    alpaca_secret_key,\n",
    "    api_version=\"v2\")"
   ]
  },
  {
   "cell_type": "code",
   "execution_count": 10,
   "metadata": {},
   "outputs": [
    {
     "name": "stdout",
     "output_type": "stream",
     "text": [
      "Current AGG closing price: $118.43\n",
      "Current SPY closing price: $352.56\n"
     ]
    }
   ],
   "source": [
    "# Format current date as ISO format\n",
    "today = pd.Timestamp(\"2020-09-01\", tz=\"America/Chicago\").isoformat()\n",
    "\n",
    "# Set the tickers\n",
    "tickers = [\"AGG\", \"SPY\"]\n",
    "\n",
    "# Set timeframe to '1D' for Alpaca API\n",
    "timeframe = \"1D\"\n",
    "\n",
    "# Get current closing prices for SPY and AGG\n",
    "df_portfolio = alpaca.get_barset(\n",
    "    tickers,\n",
    "    timeframe,\n",
    "    start = today,\n",
    "    end = today\n",
    ").df\n",
    "\n",
    "# Pick AGG and SPY close prices\n",
    "agg_close_price = float(df_portfolio[\"AGG\"][\"close\"])\n",
    "spy_close_price = float(df_portfolio[\"SPY\"][\"close\"])\n",
    "\n",
    "# Print AGG and SPY close prices\n",
    "print(f\"Current AGG closing price: ${agg_close_price}\")\n",
    "print(f\"Current SPY closing price: ${spy_close_price}\")"
   ]
  },
  {
   "cell_type": "code",
   "execution_count": 11,
   "metadata": {},
   "outputs": [
    {
     "name": "stdout",
     "output_type": "stream",
     "text": [
      "The current value of your 50 SPY shares is $17,628.00\n",
      "The current value of your 200 AGG shares is $23,686.00\n"
     ]
    }
   ],
   "source": [
    "# Compute the current value of shares\n",
    "my_agg_value = agg_close_price * my_agg\n",
    "my_spy_value = spy_close_price * my_spy\n",
    "# Print current value of share\n",
    "print(f\"The current value of your {my_spy} SPY shares is ${my_spy_value:0,.2f}\")\n",
    "print(f\"The current value of your {my_agg} AGG shares is ${my_agg_value:0,.2f}\")"
   ]
  },
  {
   "cell_type": "markdown",
   "metadata": {},
   "source": [
    "### Savings Health Analysis"
   ]
  },
  {
   "cell_type": "code",
   "execution_count": 12,
   "metadata": {},
   "outputs": [
    {
     "data": {
      "text/html": [
       "<div>\n",
       "<style scoped>\n",
       "    .dataframe tbody tr th:only-of-type {\n",
       "        vertical-align: middle;\n",
       "    }\n",
       "\n",
       "    .dataframe tbody tr th {\n",
       "        vertical-align: top;\n",
       "    }\n",
       "\n",
       "    .dataframe thead th {\n",
       "        text-align: right;\n",
       "    }\n",
       "</style>\n",
       "<table border=\"1\" class=\"dataframe\">\n",
       "  <thead>\n",
       "    <tr style=\"text-align: right;\">\n",
       "      <th></th>\n",
       "      <th>Amount</th>\n",
       "    </tr>\n",
       "  </thead>\n",
       "  <tbody>\n",
       "    <tr>\n",
       "      <th>Crypto</th>\n",
       "      <td>15960.239</td>\n",
       "    </tr>\n",
       "    <tr>\n",
       "      <th>Shares</th>\n",
       "      <td>41314.000</td>\n",
       "    </tr>\n",
       "  </tbody>\n",
       "</table>\n",
       "</div>"
      ],
      "text/plain": [
       "           Amount\n",
       "Crypto  15960.239\n",
       "Shares  41314.000"
      ]
     },
     "execution_count": 12,
     "metadata": {},
     "output_type": "execute_result"
    }
   ],
   "source": [
    "# Create savings DataFrame\n",
    "\n",
    "total_shares_savings = my_btc_value + my_eth_value\n",
    "total_crypto_savings = my_agg_value + my_spy_value\n",
    "df_savings = pd.DataFrame({\"Amount\":[total_shares_savings, total_crypto_savings]},index= ['Crypto','Shares'])\n",
    "df_savings"
   ]
  },
  {
   "cell_type": "code",
   "execution_count": 38,
   "metadata": {},
   "outputs": [
    {
     "data": {
      "image/png": "[encoded data removed]",
      "text/plain": [
       "<Figure size 432x288 with 1 Axes>"
      ]
     },
     "metadata": {},
     "output_type": "display_data"
    }
   ],
   "source": [
    "# Plot savings pie chart\n",
    "pie_chart = df_savings.plot.pie(y=\"Amount\", title=\"Composition of Personal Savings\")\n",
    "pie_chart.get_figure().savefig(\"Images/PieChart.png\")"
   ]
  },
  {
   "cell_type": "code",
   "execution_count": 14,
   "metadata": {},
   "outputs": [
    {
     "name": "stdout",
     "output_type": "stream",
     "text": [
      "Congratulations! You have enough money in your emergency fund.\n"
     ]
    }
   ],
   "source": [
    "# Set ideal emergency fund\n",
    "emergency_fund = monthly_income * 3\n",
    "\n",
    "# Calculate total amount of savings\n",
    "total_savings = total_shares_savings + total_crypto_savings\n",
    "dollars_away = total_savings - emergency_fund\n",
    "# Validate saving health\n",
    "if total_savings > emergency_fund:\n",
    "    print(\"Congratulations! You have enough money in your emergency fund.\")\n",
    "elif total_savings == emergency_fund:\n",
    "    print(\"Congratulations! You have reached a financial goal of enough money in your emergency fund.\")\n",
    "else:\n",
    "    print(f\"You are {dollars_away} from reaching your emergency fund.\")"
   ]
  },
  {
   "cell_type": "markdown",
   "metadata": {},
   "source": [
    "## Part 2 - Retirement Planning\n",
    "\n",
    "### Monte Carlo Simulation"
   ]
  },
  {
   "cell_type": "code",
   "execution_count": 15,
   "metadata": {},
   "outputs": [],
   "source": [
    "# Set start and end dates of five years back from today.\n",
    "start_date = pd.Timestamp('2015-09-01', tz='America/New_York').isoformat()\n",
    "end_date = pd.Timestamp('2020-09-01', tz='America/New_York').isoformat()"
   ]
  },
  {
   "cell_type": "code",
   "execution_count": 18,
   "metadata": {},
   "outputs": [
    {
     "data": {
      "text/html": [
       "<div>\n",
       "<style scoped>\n",
       "    .dataframe tbody tr th:only-of-type {\n",
       "        vertical-align: middle;\n",
       "    }\n",
       "\n",
       "    .dataframe tbody tr th {\n",
       "        vertical-align: top;\n",
       "    }\n",
       "\n",
       "    .dataframe thead tr th {\n",
       "        text-align: left;\n",
       "    }\n",
       "</style>\n",
       "<table border=\"1\" class=\"dataframe\">\n",
       "  <thead>\n",
       "    <tr>\n",
       "      <th></th>\n",
       "      <th colspan=\"5\" halign=\"left\">AGG</th>\n",
       "      <th colspan=\"5\" halign=\"left\">SPY</th>\n",
       "    </tr>\n",
       "    <tr>\n",
       "      <th></th>\n",
       "      <th>open</th>\n",
       "      <th>high</th>\n",
       "      <th>low</th>\n",
       "      <th>close</th>\n",
       "      <th>volume</th>\n",
       "      <th>open</th>\n",
       "      <th>high</th>\n",
       "      <th>low</th>\n",
       "      <th>close</th>\n",
       "      <th>volume</th>\n",
       "    </tr>\n",
       "  </thead>\n",
       "  <tbody>\n",
       "    <tr>\n",
       "      <th>2015-09-01 00:00:00-04:00</th>\n",
       "      <td>108.83</td>\n",
       "      <td>109.11</td>\n",
       "      <td>108.7700</td>\n",
       "      <td>109.01</td>\n",
       "      <td>3083045.0</td>\n",
       "      <td>193.12</td>\n",
       "      <td>194.77</td>\n",
       "      <td>190.73</td>\n",
       "      <td>191.61</td>\n",
       "      <td>173963880</td>\n",
       "    </tr>\n",
       "    <tr>\n",
       "      <th>2015-09-02 00:00:00-04:00</th>\n",
       "      <td>108.92</td>\n",
       "      <td>109.05</td>\n",
       "      <td>108.8100</td>\n",
       "      <td>108.90</td>\n",
       "      <td>3273302.0</td>\n",
       "      <td>194.65</td>\n",
       "      <td>195.46</td>\n",
       "      <td>192.42</td>\n",
       "      <td>195.46</td>\n",
       "      <td>120044919</td>\n",
       "    </tr>\n",
       "    <tr>\n",
       "      <th>2015-09-03 00:00:00-04:00</th>\n",
       "      <td>109.06</td>\n",
       "      <td>109.12</td>\n",
       "      <td>108.8701</td>\n",
       "      <td>109.04</td>\n",
       "      <td>1676171.0</td>\n",
       "      <td>196.26</td>\n",
       "      <td>198.05</td>\n",
       "      <td>194.96</td>\n",
       "      <td>195.55</td>\n",
       "      <td>117191452</td>\n",
       "    </tr>\n",
       "    <tr>\n",
       "      <th>2015-09-04 00:00:00-04:00</th>\n",
       "      <td>109.19</td>\n",
       "      <td>109.33</td>\n",
       "      <td>109.0200</td>\n",
       "      <td>109.28</td>\n",
       "      <td>1529407.0</td>\n",
       "      <td>192.85</td>\n",
       "      <td>193.86</td>\n",
       "      <td>191.61</td>\n",
       "      <td>192.56</td>\n",
       "      <td>121958169</td>\n",
       "    </tr>\n",
       "    <tr>\n",
       "      <th>2015-09-08 00:00:00-04:00</th>\n",
       "      <td>108.96</td>\n",
       "      <td>109.04</td>\n",
       "      <td>108.9100</td>\n",
       "      <td>109.00</td>\n",
       "      <td>1889306.0</td>\n",
       "      <td>195.94</td>\n",
       "      <td>197.61</td>\n",
       "      <td>195.17</td>\n",
       "      <td>197.51</td>\n",
       "      <td>92715665</td>\n",
       "    </tr>\n",
       "  </tbody>\n",
       "</table>\n",
       "</div>"
      ],
      "text/plain": [
       "                              AGG                                       \\\n",
       "                             open    high       low   close     volume   \n",
       "2015-09-01 00:00:00-04:00  108.83  109.11  108.7700  109.01  3083045.0   \n",
       "2015-09-02 00:00:00-04:00  108.92  109.05  108.8100  108.90  3273302.0   \n",
       "2015-09-03 00:00:00-04:00  109.06  109.12  108.8701  109.04  1676171.0   \n",
       "2015-09-04 00:00:00-04:00  109.19  109.33  109.0200  109.28  1529407.0   \n",
       "2015-09-08 00:00:00-04:00  108.96  109.04  108.9100  109.00  1889306.0   \n",
       "\n",
       "                              SPY                                     \n",
       "                             open    high     low   close     volume  \n",
       "2015-09-01 00:00:00-04:00  193.12  194.77  190.73  191.61  173963880  \n",
       "2015-09-02 00:00:00-04:00  194.65  195.46  192.42  195.46  120044919  \n",
       "2015-09-03 00:00:00-04:00  196.26  198.05  194.96  195.55  117191452  \n",
       "2015-09-04 00:00:00-04:00  192.85  193.86  191.61  192.56  121958169  \n",
       "2015-09-08 00:00:00-04:00  195.94  197.61  195.17  197.51   92715665  "
      ]
     },
     "execution_count": 18,
     "metadata": {},
     "output_type": "execute_result"
    }
   ],
   "source": [
    "# Get 5 years' worth of historical data for SPY and AGG\n",
    "tickers = [\"AGG\", \"SPY\"]\n",
    "\n",
    "timeframe = \"1D\"\n",
    "\n",
    "df_stock_data = alpaca.get_barset(\n",
    "    tickers,\n",
    "    timeframe,\n",
    "    start=start_date,\n",
    "    end=end_date\n",
    ").df\n",
    "\n",
    "# Display sample data\n",
    "df_stock_data.head()"
   ]
  },
  {
   "cell_type": "code",
   "execution_count": 20,
   "metadata": {},
   "outputs": [],
   "source": [
    "# Configuring a Monte Carlo simulation to forecast 30 years cumulative returns\n",
    "MC_30_years_sim = MCSimulation(\n",
    "    portfolio_data = df_stock_data,\n",
    "    weights = [.6,.4],\n",
    "    num_simulation = 500,\n",
    "    num_trading_days = 252*5\n",
    ")\n",
    "\n"
   ]
  },
  {
   "cell_type": "code",
   "execution_count": 21,
   "metadata": {},
   "outputs": [
    {
     "data": {
      "text/html": [
       "<div>\n",
       "<style scoped>\n",
       "    .dataframe tbody tr th:only-of-type {\n",
       "        vertical-align: middle;\n",
       "    }\n",
       "\n",
       "    .dataframe tbody tr th {\n",
       "        vertical-align: top;\n",
       "    }\n",
       "\n",
       "    .dataframe thead tr th {\n",
       "        text-align: left;\n",
       "    }\n",
       "</style>\n",
       "<table border=\"1\" class=\"dataframe\">\n",
       "  <thead>\n",
       "    <tr>\n",
       "      <th></th>\n",
       "      <th colspan=\"6\" halign=\"left\">AGG</th>\n",
       "      <th colspan=\"6\" halign=\"left\">SPY</th>\n",
       "    </tr>\n",
       "    <tr>\n",
       "      <th></th>\n",
       "      <th>open</th>\n",
       "      <th>high</th>\n",
       "      <th>low</th>\n",
       "      <th>close</th>\n",
       "      <th>volume</th>\n",
       "      <th>daily_return</th>\n",
       "      <th>open</th>\n",
       "      <th>high</th>\n",
       "      <th>low</th>\n",
       "      <th>close</th>\n",
       "      <th>volume</th>\n",
       "      <th>daily_return</th>\n",
       "    </tr>\n",
       "  </thead>\n",
       "  <tbody>\n",
       "    <tr>\n",
       "      <th>2015-09-01 00:00:00-04:00</th>\n",
       "      <td>108.83</td>\n",
       "      <td>109.11</td>\n",
       "      <td>108.7700</td>\n",
       "      <td>109.01</td>\n",
       "      <td>3083045.0</td>\n",
       "      <td>NaN</td>\n",
       "      <td>193.12</td>\n",
       "      <td>194.77</td>\n",
       "      <td>190.73</td>\n",
       "      <td>191.61</td>\n",
       "      <td>173963880</td>\n",
       "      <td>NaN</td>\n",
       "    </tr>\n",
       "    <tr>\n",
       "      <th>2015-09-02 00:00:00-04:00</th>\n",
       "      <td>108.92</td>\n",
       "      <td>109.05</td>\n",
       "      <td>108.8100</td>\n",
       "      <td>108.90</td>\n",
       "      <td>3273302.0</td>\n",
       "      <td>-0.001009</td>\n",
       "      <td>194.65</td>\n",
       "      <td>195.46</td>\n",
       "      <td>192.42</td>\n",
       "      <td>195.46</td>\n",
       "      <td>120044919</td>\n",
       "      <td>0.020093</td>\n",
       "    </tr>\n",
       "    <tr>\n",
       "      <th>2015-09-03 00:00:00-04:00</th>\n",
       "      <td>109.06</td>\n",
       "      <td>109.12</td>\n",
       "      <td>108.8701</td>\n",
       "      <td>109.04</td>\n",
       "      <td>1676171.0</td>\n",
       "      <td>0.001286</td>\n",
       "      <td>196.26</td>\n",
       "      <td>198.05</td>\n",
       "      <td>194.96</td>\n",
       "      <td>195.55</td>\n",
       "      <td>117191452</td>\n",
       "      <td>0.000460</td>\n",
       "    </tr>\n",
       "    <tr>\n",
       "      <th>2015-09-04 00:00:00-04:00</th>\n",
       "      <td>109.19</td>\n",
       "      <td>109.33</td>\n",
       "      <td>109.0200</td>\n",
       "      <td>109.28</td>\n",
       "      <td>1529407.0</td>\n",
       "      <td>0.002201</td>\n",
       "      <td>192.85</td>\n",
       "      <td>193.86</td>\n",
       "      <td>191.61</td>\n",
       "      <td>192.56</td>\n",
       "      <td>121958169</td>\n",
       "      <td>-0.015290</td>\n",
       "    </tr>\n",
       "    <tr>\n",
       "      <th>2015-09-08 00:00:00-04:00</th>\n",
       "      <td>108.96</td>\n",
       "      <td>109.04</td>\n",
       "      <td>108.9100</td>\n",
       "      <td>109.00</td>\n",
       "      <td>1889306.0</td>\n",
       "      <td>-0.002562</td>\n",
       "      <td>195.94</td>\n",
       "      <td>197.61</td>\n",
       "      <td>195.17</td>\n",
       "      <td>197.51</td>\n",
       "      <td>92715665</td>\n",
       "      <td>0.025706</td>\n",
       "    </tr>\n",
       "  </tbody>\n",
       "</table>\n",
       "</div>"
      ],
      "text/plain": [
       "                              AGG                                       \\\n",
       "                             open    high       low   close     volume   \n",
       "2015-09-01 00:00:00-04:00  108.83  109.11  108.7700  109.01  3083045.0   \n",
       "2015-09-02 00:00:00-04:00  108.92  109.05  108.8100  108.90  3273302.0   \n",
       "2015-09-03 00:00:00-04:00  109.06  109.12  108.8701  109.04  1676171.0   \n",
       "2015-09-04 00:00:00-04:00  109.19  109.33  109.0200  109.28  1529407.0   \n",
       "2015-09-08 00:00:00-04:00  108.96  109.04  108.9100  109.00  1889306.0   \n",
       "\n",
       "                                           SPY                          \\\n",
       "                          daily_return    open    high     low   close   \n",
       "2015-09-01 00:00:00-04:00          NaN  193.12  194.77  190.73  191.61   \n",
       "2015-09-02 00:00:00-04:00    -0.001009  194.65  195.46  192.42  195.46   \n",
       "2015-09-03 00:00:00-04:00     0.001286  196.26  198.05  194.96  195.55   \n",
       "2015-09-04 00:00:00-04:00     0.002201  192.85  193.86  191.61  192.56   \n",
       "2015-09-08 00:00:00-04:00    -0.002562  195.94  197.61  195.17  197.51   \n",
       "\n",
       "                                                   \n",
       "                              volume daily_return  \n",
       "2015-09-01 00:00:00-04:00  173963880          NaN  \n",
       "2015-09-02 00:00:00-04:00  120044919     0.020093  \n",
       "2015-09-03 00:00:00-04:00  117191452     0.000460  \n",
       "2015-09-04 00:00:00-04:00  121958169    -0.015290  \n",
       "2015-09-08 00:00:00-04:00   92715665     0.025706  "
      ]
     },
     "execution_count": 21,
     "metadata": {},
     "output_type": "execute_result"
    }
   ],
   "source": [
    "# Printing the simulation input data\n",
    "MC_30_years_sim.portfolio_data.head()"
   ]
  },
  {
   "cell_type": "code",
   "execution_count": 22,
   "metadata": {},
   "outputs": [
    {
     "name": "stdout",
     "output_type": "stream",
     "text": [
      "Running Monte Carlo simulation number 0.\n",
      "Running Monte Carlo simulation number 10.\n",
      "Running Monte Carlo simulation number 20.\n",
      "Running Monte Carlo simulation number 30.\n",
      "Running Monte Carlo simulation number 40.\n",
      "Running Monte Carlo simulation number 50.\n",
      "Running Monte Carlo simulation number 60.\n",
      "Running Monte Carlo simulation number 70.\n",
      "Running Monte Carlo simulation number 80.\n",
      "Running Monte Carlo simulation number 90.\n",
      "Running Monte Carlo simulation number 100.\n",
      "Running Monte Carlo simulation number 110.\n",
      "Running Monte Carlo simulation number 120.\n",
      "Running Monte Carlo simulation number 130.\n",
      "Running Monte Carlo simulation number 140.\n",
      "Running Monte Carlo simulation number 150.\n",
      "Running Monte Carlo simulation number 160.\n",
      "Running Monte Carlo simulation number 170.\n",
      "Running Monte Carlo simulation number 180.\n",
      "Running Monte Carlo simulation number 190.\n",
      "Running Monte Carlo simulation number 200.\n",
      "Running Monte Carlo simulation number 210.\n",
      "Running Monte Carlo simulation number 220.\n",
      "Running Monte Carlo simulation number 230.\n",
      "Running Monte Carlo simulation number 240.\n",
      "Running Monte Carlo simulation number 250.\n",
      "Running Monte Carlo simulation number 260.\n",
      "Running Monte Carlo simulation number 270.\n",
      "Running Monte Carlo simulation number 280.\n",
      "Running Monte Carlo simulation number 290.\n",
      "Running Monte Carlo simulation number 300.\n",
      "Running Monte Carlo simulation number 310.\n",
      "Running Monte Carlo simulation number 320.\n",
      "Running Monte Carlo simulation number 330.\n",
      "Running Monte Carlo simulation number 340.\n",
      "Running Monte Carlo simulation number 350.\n",
      "Running Monte Carlo simulation number 360.\n",
      "Running Monte Carlo simulation number 370.\n",
      "Running Monte Carlo simulation number 380.\n",
      "Running Monte Carlo simulation number 390.\n",
      "Running Monte Carlo simulation number 400.\n",
      "Running Monte Carlo simulation number 410.\n",
      "Running Monte Carlo simulation number 420.\n",
      "Running Monte Carlo simulation number 430.\n",
      "Running Monte Carlo simulation number 440.\n",
      "Running Monte Carlo simulation number 450.\n",
      "Running Monte Carlo simulation number 460.\n",
      "Running Monte Carlo simulation number 470.\n",
      "Running Monte Carlo simulation number 480.\n",
      "Running Monte Carlo simulation number 490.\n"
     ]
    },
    {
     "data": {
      "text/html": [
       "<div>\n",
       "<style scoped>\n",
       "    .dataframe tbody tr th:only-of-type {\n",
       "        vertical-align: middle;\n",
       "    }\n",
       "\n",
       "    .dataframe tbody tr th {\n",
       "        vertical-align: top;\n",
       "    }\n",
       "\n",
       "    .dataframe thead th {\n",
       "        text-align: right;\n",
       "    }\n",
       "</style>\n",
       "<table border=\"1\" class=\"dataframe\">\n",
       "  <thead>\n",
       "    <tr style=\"text-align: right;\">\n",
       "      <th></th>\n",
       "      <th>0</th>\n",
       "      <th>1</th>\n",
       "      <th>2</th>\n",
       "      <th>3</th>\n",
       "      <th>4</th>\n",
       "      <th>5</th>\n",
       "      <th>6</th>\n",
       "      <th>7</th>\n",
       "      <th>8</th>\n",
       "      <th>9</th>\n",
       "      <th>...</th>\n",
       "      <th>490</th>\n",
       "      <th>491</th>\n",
       "      <th>492</th>\n",
       "      <th>493</th>\n",
       "      <th>494</th>\n",
       "      <th>495</th>\n",
       "      <th>496</th>\n",
       "      <th>497</th>\n",
       "      <th>498</th>\n",
       "      <th>499</th>\n",
       "    </tr>\n",
       "  </thead>\n",
       "  <tbody>\n",
       "    <tr>\n",
       "      <th>0</th>\n",
       "      <td>1.000000</td>\n",
       "      <td>1.000000</td>\n",
       "      <td>1.000000</td>\n",
       "      <td>1.000000</td>\n",
       "      <td>1.000000</td>\n",
       "      <td>1.000000</td>\n",
       "      <td>1.000000</td>\n",
       "      <td>1.000000</td>\n",
       "      <td>1.000000</td>\n",
       "      <td>1.000000</td>\n",
       "      <td>...</td>\n",
       "      <td>1.000000</td>\n",
       "      <td>1.000000</td>\n",
       "      <td>1.000000</td>\n",
       "      <td>1.000000</td>\n",
       "      <td>1.000000</td>\n",
       "      <td>1.000000</td>\n",
       "      <td>1.000000</td>\n",
       "      <td>1.000000</td>\n",
       "      <td>1.000000</td>\n",
       "      <td>1.000000</td>\n",
       "    </tr>\n",
       "    <tr>\n",
       "      <th>1</th>\n",
       "      <td>1.003824</td>\n",
       "      <td>0.996163</td>\n",
       "      <td>1.005442</td>\n",
       "      <td>1.005460</td>\n",
       "      <td>1.006839</td>\n",
       "      <td>0.999496</td>\n",
       "      <td>0.992314</td>\n",
       "      <td>0.998150</td>\n",
       "      <td>1.001945</td>\n",
       "      <td>0.994814</td>\n",
       "      <td>...</td>\n",
       "      <td>1.003443</td>\n",
       "      <td>1.001524</td>\n",
       "      <td>0.992110</td>\n",
       "      <td>0.992716</td>\n",
       "      <td>1.008196</td>\n",
       "      <td>0.992941</td>\n",
       "      <td>1.001787</td>\n",
       "      <td>1.000026</td>\n",
       "      <td>1.004770</td>\n",
       "      <td>0.998918</td>\n",
       "    </tr>\n",
       "    <tr>\n",
       "      <th>2</th>\n",
       "      <td>1.003561</td>\n",
       "      <td>0.993683</td>\n",
       "      <td>1.001688</td>\n",
       "      <td>1.001026</td>\n",
       "      <td>1.005644</td>\n",
       "      <td>1.005809</td>\n",
       "      <td>0.994883</td>\n",
       "      <td>1.001647</td>\n",
       "      <td>1.004332</td>\n",
       "      <td>0.998758</td>\n",
       "      <td>...</td>\n",
       "      <td>1.002281</td>\n",
       "      <td>1.003939</td>\n",
       "      <td>0.987447</td>\n",
       "      <td>0.999993</td>\n",
       "      <td>1.006490</td>\n",
       "      <td>0.998207</td>\n",
       "      <td>0.999264</td>\n",
       "      <td>1.005325</td>\n",
       "      <td>0.999167</td>\n",
       "      <td>0.990105</td>\n",
       "    </tr>\n",
       "    <tr>\n",
       "      <th>3</th>\n",
       "      <td>1.006521</td>\n",
       "      <td>0.993767</td>\n",
       "      <td>1.002398</td>\n",
       "      <td>1.010050</td>\n",
       "      <td>1.006908</td>\n",
       "      <td>1.005628</td>\n",
       "      <td>1.002917</td>\n",
       "      <td>1.002717</td>\n",
       "      <td>1.005077</td>\n",
       "      <td>1.001372</td>\n",
       "      <td>...</td>\n",
       "      <td>1.006393</td>\n",
       "      <td>1.002741</td>\n",
       "      <td>0.994164</td>\n",
       "      <td>1.002931</td>\n",
       "      <td>1.000531</td>\n",
       "      <td>0.993757</td>\n",
       "      <td>0.991920</td>\n",
       "      <td>0.999016</td>\n",
       "      <td>1.001713</td>\n",
       "      <td>0.976871</td>\n",
       "    </tr>\n",
       "    <tr>\n",
       "      <th>4</th>\n",
       "      <td>1.008760</td>\n",
       "      <td>0.992382</td>\n",
       "      <td>0.994349</td>\n",
       "      <td>1.009148</td>\n",
       "      <td>0.999902</td>\n",
       "      <td>1.010706</td>\n",
       "      <td>0.994614</td>\n",
       "      <td>0.998048</td>\n",
       "      <td>1.008105</td>\n",
       "      <td>1.007225</td>\n",
       "      <td>...</td>\n",
       "      <td>1.005510</td>\n",
       "      <td>1.003323</td>\n",
       "      <td>0.997401</td>\n",
       "      <td>0.996071</td>\n",
       "      <td>1.006063</td>\n",
       "      <td>0.988205</td>\n",
       "      <td>0.979473</td>\n",
       "      <td>1.001622</td>\n",
       "      <td>1.002663</td>\n",
       "      <td>0.975800</td>\n",
       "    </tr>\n",
       "    <tr>\n",
       "      <th>...</th>\n",
       "      <td>...</td>\n",
       "      <td>...</td>\n",
       "      <td>...</td>\n",
       "      <td>...</td>\n",
       "      <td>...</td>\n",
       "      <td>...</td>\n",
       "      <td>...</td>\n",
       "      <td>...</td>\n",
       "      <td>...</td>\n",
       "      <td>...</td>\n",
       "      <td>...</td>\n",
       "      <td>...</td>\n",
       "      <td>...</td>\n",
       "      <td>...</td>\n",
       "      <td>...</td>\n",
       "      <td>...</td>\n",
       "      <td>...</td>\n",
       "      <td>...</td>\n",
       "      <td>...</td>\n",
       "      <td>...</td>\n",
       "      <td>...</td>\n",
       "    </tr>\n",
       "    <tr>\n",
       "      <th>1256</th>\n",
       "      <td>1.662302</td>\n",
       "      <td>1.254938</td>\n",
       "      <td>1.234148</td>\n",
       "      <td>1.181620</td>\n",
       "      <td>0.989183</td>\n",
       "      <td>1.619636</td>\n",
       "      <td>1.617040</td>\n",
       "      <td>2.239478</td>\n",
       "      <td>1.618815</td>\n",
       "      <td>1.367871</td>\n",
       "      <td>...</td>\n",
       "      <td>1.394770</td>\n",
       "      <td>1.334749</td>\n",
       "      <td>1.191358</td>\n",
       "      <td>1.817328</td>\n",
       "      <td>1.339666</td>\n",
       "      <td>1.649926</td>\n",
       "      <td>1.802185</td>\n",
       "      <td>1.314307</td>\n",
       "      <td>1.287745</td>\n",
       "      <td>1.459144</td>\n",
       "    </tr>\n",
       "    <tr>\n",
       "      <th>1257</th>\n",
       "      <td>1.662487</td>\n",
       "      <td>1.254609</td>\n",
       "      <td>1.217479</td>\n",
       "      <td>1.186728</td>\n",
       "      <td>0.977731</td>\n",
       "      <td>1.617913</td>\n",
       "      <td>1.608044</td>\n",
       "      <td>2.224570</td>\n",
       "      <td>1.619333</td>\n",
       "      <td>1.366457</td>\n",
       "      <td>...</td>\n",
       "      <td>1.392338</td>\n",
       "      <td>1.341242</td>\n",
       "      <td>1.199284</td>\n",
       "      <td>1.821203</td>\n",
       "      <td>1.347748</td>\n",
       "      <td>1.650568</td>\n",
       "      <td>1.802453</td>\n",
       "      <td>1.311640</td>\n",
       "      <td>1.281581</td>\n",
       "      <td>1.464476</td>\n",
       "    </tr>\n",
       "    <tr>\n",
       "      <th>1258</th>\n",
       "      <td>1.673560</td>\n",
       "      <td>1.245698</td>\n",
       "      <td>1.220406</td>\n",
       "      <td>1.194446</td>\n",
       "      <td>0.979878</td>\n",
       "      <td>1.612727</td>\n",
       "      <td>1.605081</td>\n",
       "      <td>2.248035</td>\n",
       "      <td>1.633073</td>\n",
       "      <td>1.357083</td>\n",
       "      <td>...</td>\n",
       "      <td>1.387520</td>\n",
       "      <td>1.335939</td>\n",
       "      <td>1.204333</td>\n",
       "      <td>1.799262</td>\n",
       "      <td>1.350821</td>\n",
       "      <td>1.665069</td>\n",
       "      <td>1.792193</td>\n",
       "      <td>1.308384</td>\n",
       "      <td>1.279040</td>\n",
       "      <td>1.458215</td>\n",
       "    </tr>\n",
       "    <tr>\n",
       "      <th>1259</th>\n",
       "      <td>1.680134</td>\n",
       "      <td>1.250276</td>\n",
       "      <td>1.230266</td>\n",
       "      <td>1.185643</td>\n",
       "      <td>0.974729</td>\n",
       "      <td>1.619316</td>\n",
       "      <td>1.600931</td>\n",
       "      <td>2.240919</td>\n",
       "      <td>1.623762</td>\n",
       "      <td>1.354330</td>\n",
       "      <td>...</td>\n",
       "      <td>1.395710</td>\n",
       "      <td>1.334192</td>\n",
       "      <td>1.209475</td>\n",
       "      <td>1.807406</td>\n",
       "      <td>1.347563</td>\n",
       "      <td>1.658544</td>\n",
       "      <td>1.788351</td>\n",
       "      <td>1.314238</td>\n",
       "      <td>1.261929</td>\n",
       "      <td>1.468024</td>\n",
       "    </tr>\n",
       "    <tr>\n",
       "      <th>1260</th>\n",
       "      <td>1.677463</td>\n",
       "      <td>1.249481</td>\n",
       "      <td>1.211423</td>\n",
       "      <td>1.196697</td>\n",
       "      <td>0.980419</td>\n",
       "      <td>1.638147</td>\n",
       "      <td>1.603993</td>\n",
       "      <td>2.232099</td>\n",
       "      <td>1.620088</td>\n",
       "      <td>1.351723</td>\n",
       "      <td>...</td>\n",
       "      <td>1.388341</td>\n",
       "      <td>1.336176</td>\n",
       "      <td>1.216787</td>\n",
       "      <td>1.818688</td>\n",
       "      <td>1.337808</td>\n",
       "      <td>1.658781</td>\n",
       "      <td>1.808373</td>\n",
       "      <td>1.312621</td>\n",
       "      <td>1.256451</td>\n",
       "      <td>1.473972</td>\n",
       "    </tr>\n",
       "  </tbody>\n",
       "</table>\n",
       "<p>1261 rows × 500 columns</p>\n",
       "</div>"
      ],
      "text/plain": [
       "           0         1         2         3         4         5         6    \\\n",
       "0     1.000000  1.000000  1.000000  1.000000  1.000000  1.000000  1.000000   \n",
       "1     1.003824  0.996163  1.005442  1.005460  1.006839  0.999496  0.992314   \n",
       "2     1.003561  0.993683  1.001688  1.001026  1.005644  1.005809  0.994883   \n",
       "3     1.006521  0.993767  1.002398  1.010050  1.006908  1.005628  1.002917   \n",
       "4     1.008760  0.992382  0.994349  1.009148  0.999902  1.010706  0.994614   \n",
       "...        ...       ...       ...       ...       ...       ...       ...   \n",
       "1256  1.662302  1.254938  1.234148  1.181620  0.989183  1.619636  1.617040   \n",
       "1257  1.662487  1.254609  1.217479  1.186728  0.977731  1.617913  1.608044   \n",
       "1258  1.673560  1.245698  1.220406  1.194446  0.979878  1.612727  1.605081   \n",
       "1259  1.680134  1.250276  1.230266  1.185643  0.974729  1.619316  1.600931   \n",
       "1260  1.677463  1.249481  1.211423  1.196697  0.980419  1.638147  1.603993   \n",
       "\n",
       "           7         8         9    ...       490       491       492  \\\n",
       "0     1.000000  1.000000  1.000000  ...  1.000000  1.000000  1.000000   \n",
       "1     0.998150  1.001945  0.994814  ...  1.003443  1.001524  0.992110   \n",
       "2     1.001647  1.004332  0.998758  ...  1.002281  1.003939  0.987447   \n",
       "3     1.002717  1.005077  1.001372  ...  1.006393  1.002741  0.994164   \n",
       "4     0.998048  1.008105  1.007225  ...  1.005510  1.003323  0.997401   \n",
       "...        ...       ...       ...  ...       ...       ...       ...   \n",
       "1256  2.239478  1.618815  1.367871  ...  1.394770  1.334749  1.191358   \n",
       "1257  2.224570  1.619333  1.366457  ...  1.392338  1.341242  1.199284   \n",
       "1258  2.248035  1.633073  1.357083  ...  1.387520  1.335939  1.204333   \n",
       "1259  2.240919  1.623762  1.354330  ...  1.395710  1.334192  1.209475   \n",
       "1260  2.232099  1.620088  1.351723  ...  1.388341  1.336176  1.216787   \n",
       "\n",
       "           493       494       495       496       497       498       499  \n",
       "0     1.000000  1.000000  1.000000  1.000000  1.000000  1.000000  1.000000  \n",
       "1     0.992716  1.008196  0.992941  1.001787  1.000026  1.004770  0.998918  \n",
       "2     0.999993  1.006490  0.998207  0.999264  1.005325  0.999167  0.990105  \n",
       "3     1.002931  1.000531  0.993757  0.991920  0.999016  1.001713  0.976871  \n",
       "4     0.996071  1.006063  0.988205  0.979473  1.001622  1.002663  0.975800  \n",
       "...        ...       ...       ...       ...       ...       ...       ...  \n",
       "1256  1.817328  1.339666  1.649926  1.802185  1.314307  1.287745  1.459144  \n",
       "1257  1.821203  1.347748  1.650568  1.802453  1.311640  1.281581  1.464476  \n",
       "1258  1.799262  1.350821  1.665069  1.792193  1.308384  1.279040  1.458215  \n",
       "1259  1.807406  1.347563  1.658544  1.788351  1.314238  1.261929  1.468024  \n",
       "1260  1.818688  1.337808  1.658781  1.808373  1.312621  1.256451  1.473972  \n",
       "\n",
       "[1261 rows x 500 columns]"
      ]
     },
     "execution_count": 22,
     "metadata": {},
     "output_type": "execute_result"
    }
   ],
   "source": [
    "# Running a Monte Carlo simulation to forecast 30 years cumulative returns\n",
    "MC_30_years_sim.calc_cumulative_return()"
   ]
  },
  {
   "cell_type": "code",
   "execution_count": 26,
   "metadata": {},
   "outputs": [
    {
     "data": {
      "image/png": "[encoded data removed]",
      "text/plain": [
       "<Figure size 432x288 with 1 Axes>"
      ]
     },
     "metadata": {
      "needs_background": "light"
     },
     "output_type": "display_data"
    }
   ],
   "source": [
    "# Plot simulation outcomes\n",
    "line_plot = MC_30_years_sim.plot_simulation()\n",
    "\n",
    "line_plot.get_figure().savefig(\"Images/MC_fiveyear_sim_plot.png\", bbox_inches='tight')"
   ]
  },
  {
   "cell_type": "code",
   "execution_count": 27,
   "metadata": {},
   "outputs": [
    {
     "data": {
      "image/png": "[encoded data removed]",
      "text/plain": [
       "<Figure size 432x288 with 1 Axes>"
      ]
     },
     "metadata": {
      "needs_background": "light"
     },
     "output_type": "display_data"
    }
   ],
   "source": [
    "# Plot probability distribution and confidence intervals\n",
    "dist_plot = MC_30_years_sim.plot_distribution()\n",
    "\n",
    "# Save the plot for future usage\n",
    "dist_plot.get_figure().savefig('Images/MC_30year_dist_plot.png',bbox_inches='tight')"
   ]
  },
  {
   "cell_type": "markdown",
   "metadata": {},
   "source": [
    "## Retirement Analysis"
   ]
  },
  {
   "cell_type": "code",
   "execution_count": 29,
   "metadata": {},
   "outputs": [
    {
     "name": "stdout",
     "output_type": "stream",
     "text": [
      "count           500.000000\n",
      "mean              1.412745\n",
      "std               0.270769\n",
      "min               0.812653\n",
      "25%               1.216409\n",
      "50%               1.372442\n",
      "75%               1.598756\n",
      "max               2.384962\n",
      "95% CI Lower      0.972348\n",
      "95% CI Upper      2.003440\n",
      "Name: 1260, dtype: float64\n"
     ]
    }
   ],
   "source": [
    "# Fetch summary statistics from the Monte Carlo simulation results\n",
    "tbl = MC_30_years_sim.summarize_cumulative_return()\n",
    "\n",
    "# Print summary statistics\n",
    "print(tbl)"
   ]
  },
  {
   "cell_type": "markdown",
   "metadata": {},
   "source": [
    "### Given an initial investment of $20,000, what is the expected portfolio return in dollars at the 95% lower and upper confidence intervals?"
   ]
  },
  {
   "cell_type": "code",
   "execution_count": 32,
   "metadata": {},
   "outputs": [
    {
     "name": "stdout",
     "output_type": "stream",
     "text": [
      "There is a 95% chance that an initial investment of $20,000 in the portfolio over the next 30 years will end within in the range of $19,446.96 and $40,068.81\n"
     ]
    }
   ],
   "source": [
    "# Set initial investment\n",
    "initial_investment = 20000\n",
    "\n",
    "# Use the lower and upper `95%` confidence intervals to calculate the range of the possible outcomes of our $30,000\n",
    "ci_lower = round(tbl[8] * initial_investment, 2)\n",
    "ci_upper = round(tbl[9] * initial_investment, 2)\n",
    "\n",
    "# Print results\n",
    "print(f\"There is a 95% chance that an initial investment of ${initial_investment:0,.0f} in the portfolio\"\n",
    "      f\" over the next 30 years will end within in the range of\"\n",
    "      f\" ${ci_lower:0,.2f} and ${ci_upper:0,.2f}\")"
   ]
  },
  {
   "cell_type": "markdown",
   "metadata": {},
   "source": [
    "### How would a 50% increase in the initial investment amount affect the expected portfolio return in dollars at the 95% lower and upper confidence intervals?"
   ]
  },
  {
   "cell_type": "code",
   "execution_count": 34,
   "metadata": {},
   "outputs": [
    {
     "name": "stdout",
     "output_type": "stream",
     "text": [
      "There is a 95% chance that an initial investment of $30,000 in the portfolio over the next 30 years will end within in the range of $29,170.44 and $60,103.21\n"
     ]
    }
   ],
   "source": [
    "# Set initial investment\n",
    "initial_investment = 20000 * 1.5\n",
    "\n",
    "# Use the lower and upper `95%` confidence intervals to calculate the range of the possible outcomes of our $30,000\n",
    "ci_lower = round(tbl[8] * initial_investment, 2)\n",
    "ci_upper = round(tbl[9] * initial_investment, 2)\n",
    "\n",
    "# Print results\n",
    "print(f\"There is a 95% chance that an initial investment of ${initial_investment:0,.0f} in the portfolio\"\n",
    "      f\" over the next 30 years will end within in the range of\"\n",
    "      f\" ${ci_lower:0,.2f} and ${ci_upper:0,.2f}\")"
   ]
  }
 ],
 "metadata": {
  "kernelspec": {
   "display_name": "FinTech",
   "language": "python",
   "name": "fintech"
  },
  "language_info": {
   "codemirror_mode": {
    "name": "ipython",
    "version": 3
   },
   "file_extension": ".py",
   "mimetype": "text/x-python",
   "name": "python",
   "nbconvert_exporter": "python",
   "pygments_lexer": "ipython3",
   "version": "3.6.10"
  }
 },
 "nbformat": 4,
 "nbformat_minor": 4
}
